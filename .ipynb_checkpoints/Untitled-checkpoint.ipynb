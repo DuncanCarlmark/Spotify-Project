{
 "cells": [
  {
   "cell_type": "code",
   "execution_count": 79,
   "metadata": {},
   "outputs": [],
   "source": [
    "import pandas as pd\n",
    "import numpy as np\n",
    "import matplotlib.pyplot as plt\n",
    "import glob\n",
    "import os\n",
    "import time\n",
    "import re\n",
    "import json\n",
    "from datetime import datetime, time, date"
   ]
  },
  {
   "cell_type": "code",
   "execution_count": null,
   "metadata": {},
   "outputs": [],
   "source": []
  },
  {
   "cell_type": "code",
   "execution_count": 80,
   "metadata": {},
   "outputs": [],
   "source": [
    "# Set Up Streaming History\n",
    "streamingHistory = []\n",
    "\n",
    "for f in os.listdir('data'):\n",
    "    if f.startswith('StreamingHistory'):\n",
    "        streamingHistory.append(pd.read_json(os.path.join('data', f)))\n",
    "    \n",
    "        \n",
    "rawHist = pd.concat(streamingHistory).reset_index(drop=True)"
   ]
  },
  {
   "cell_type": "code",
   "execution_count": 81,
   "metadata": {},
   "outputs": [],
   "source": [
    "# # Set up library\n",
    "# library = pd.read_json(os.path.join('data', f))\n"
   ]
  },
  {
   "cell_type": "code",
   "execution_count": 82,
   "metadata": {},
   "outputs": [],
   "source": [
    "#Data Cleaning\n",
    "streamingHistory = rawHist.copy()\n",
    "\n",
    "# Convert msPlayed to more comprehendable features\n",
    "streamingHistory[\"secPlayed\"] = streamingHistory['msPlayed'] / 1000\n",
    "streamingHistory['minPlayed'] = streamingHistory['secPlayed'] / 60\n",
    "\n",
    "\n",
    "# Convert endTime to datetime objects\n",
    "def convToDateTime(x):\n",
    "    return datetime.strptime(x, \"%Y-%m-%d %H:%M\")\n",
    "\n",
    "def getYear(x):\n",
    "    return x.year\n",
    "\n",
    "def getMonth(x):\n",
    "    return x.month\n",
    "\n",
    "def getDay(x):\n",
    "    return x.day\n",
    "\n",
    "streamingHistory[\"endTime\"] = streamingHistory[\"endTime\"].apply(convToDateTime)\n",
    "\n",
    "# Add day month and year columns to group by later\n",
    "streamingHistory[\"year\"] = streamingHistory[\"endTime\"].apply(getYear)\n",
    "streamingHistory[\"month\"] = streamingHistory[\"endTime\"].apply(getMonth)\n",
    "streamingHistory[\"day\"] = streamingHistory[\"endTime\"].apply(getDay)\n",
    "\n",
    "\n"
   ]
  },
  {
   "cell_type": "code",
   "execution_count": 83,
   "metadata": {},
   "outputs": [],
   "source": [
    "dfBrockHampton = streamingHistory[streamingHistory[\"artistName\"] ==\"BROCKHAMPTON\"].copy()\n"
   ]
  },
  {
   "cell_type": "code",
   "execution_count": 98,
   "metadata": {},
   "outputs": [],
   "source": [
    "dfOverTime = dfBrockHampton.groupby([\"year\", \"month\"]).count()"
   ]
  },
  {
   "cell_type": "code",
   "execution_count": 123,
   "metadata": {},
   "outputs": [
    {
     "data": {
      "text/plain": [
       "<matplotlib.axes._subplots.AxesSubplot at 0x235d10be6c8>"
      ]
     },
     "execution_count": 123,
     "metadata": {},
     "output_type": "execute_result"
    },
    {
     "data": {
      "image/png": "[encoded data removed]",
      "text/plain": [
       "<Figure size 432x288 with 1 Axes>"
      ]
     },
     "metadata": {
      "needs_background": "light"
     },
     "output_type": "display_data"
    }
   ],
   "source": [
    "(\n",
    "    dfOverTime.loc[2019][\"day\"].to_frame().reset_index()\n",
    "    .plot(kind=\"bar\", x=\"month\", y=\"day\")\n",
    "    \n",
    ")"
   ]
  },
  {
   "cell_type": "code",
   "execution_count": 57,
   "metadata": {},
   "outputs": [],
   "source": [
    "\n",
    "\n",
    "\n",
    "\n"
   ]
  },
  {
   "cell_type": "code",
   "execution_count": 54,
   "metadata": {},
   "outputs": [
    {
     "data": {
      "text/plain": [
       "129   2018-11-15 05:36:00\n",
       "133   2018-11-15 05:48:00\n",
       "149   2018-11-15 06:31:00\n",
       "150   2018-11-15 06:31:00\n",
       "151   2018-11-15 06:35:00\n",
       "              ...        \n",
       "717   2019-11-13 18:37:00\n",
       "728   2019-11-13 23:06:00\n",
       "729   2019-11-13 23:08:00\n",
       "741   2019-11-13 23:57:00\n",
       "753   2019-11-14 00:38:00\n",
       "Name: endTime, Length: 2103, dtype: datetime64[ns]"
      ]
     },
     "execution_count": 54,
     "metadata": {},
     "output_type": "execute_result"
    }
   ],
   "source": []
  },
  {
   "cell_type": "code",
   "execution_count": null,
   "metadata": {},
   "outputs": [],
   "source": []
  }
 ],
 "metadata": {
  "kernelspec": {
   "display_name": "Python 3",
   "language": "python",
   "name": "python3"
  },
  "language_info": {
   "codemirror_mode": {
    "name": "ipython",
    "version": 3
   },
   "file_extension": ".py",
   "mimetype": "text/x-python",
   "name": "python",
   "nbconvert_exporter": "python",
   "pygments_lexer": "ipython3",
   "version": "3.7.4"
  }
 },
 "nbformat": 4,
 "nbformat_minor": 2
}
